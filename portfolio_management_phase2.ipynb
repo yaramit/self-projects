{
 "cells": [
  {
   "cell_type": "code",
   "execution_count": null,
   "metadata": {},
   "outputs": [],
   "source": [
    "import numpy as np \n",
    "import pandas as pd \n",
    "import requests, xlsxwriter, math\n",
    "from scipy import stats \n",
    "stocks = pd.read_csv('stocks.csv')\n",
    "IEX_CLOUD_API_TOKEN = ###########\n",
    "symbol = 'SPY'\n",
    "api_url = f'https://sandbox.iexapis.com/stable/stock/{symbol}/stats?token={IEX_CLOUD_API_TOKEN}'\n",
    "data = requests.get(api_url).json()"
   ]
  },
  {
   "cell_type": "code",
   "execution_count": null,
   "metadata": {},
   "outputs": [],
   "source": [
    "\n",
    "def groups(lst, n):\n",
    "    for i in range(0, len(lst), n):\n",
    "        yield lst[i:i + n]   \n",
    "        \n",
    "symbol_groups = list(groups(stocks['Symbol'], 100))\n",
    "symbol_strings = []\n",
    "for i in range(0, len(symbol_groups)):\n",
    "    symbol_strings.append(','.join(symbol_groups[i]))\n",
    "\n",
    "my_columns = ['Symbol', 'Price', '1Y Price Return', 'Shares to Buy'] "
   ]
  },
  {
   "cell_type": "code",
   "execution_count": null,
   "metadata": {},
   "outputs": [],
   "source": [
    "final_dataframe = pd.DataFrame(columns = my_columns)\n",
    "\n",
    "for symbol_string in symbol_strings:\n",
    "    batch_api_call_url = f'https://sandbox.iexapis.com/stable/stock/market/batch/?types=stats,quote&symbols={symbol_string}&token={IEX_CLOUD_API_TOKEN}'\n",
    "    data = requests.get(batch_api_call_url).json()\n",
    "    for symbol in symbol_string.split(','):\n",
    "        final_dataframe = final_dataframe.append(\n",
    "                                        pd.Series([symbol, \n",
    "                                                   data[symbol]['quote']['latestPrice'],\n",
    "                                                   data[symbol]['stats']['year1ChangePercent'],\n",
    "                                                   'N/A'\n",
    "                                                   ], \n",
    "                                                  index = my_columns), \n",
    "                                        ignore_index = True)\n",
    "final_dataframe.sort_values('1Y Price Return', ascending = False, inplace = True)\n",
    "final_dataframe = final_dataframe[:51]\n",
    "final_dataframe.reset_index(drop = True, inplace = True)\n"
   ]
  },
  {
   "cell_type": "code",
   "execution_count": null,
   "metadata": {},
   "outputs": [],
   "source": [
    "def portfolio_size():\n",
    "    global portfolio_size\n",
    "    portfolio_size = input(\"What's your portfolio size:\")\n",
    "\n",
    "    try:\n",
    "        val = float(portfolio_size)\n",
    "    except ValueError:\n",
    "        print(\"portfolio size can be either float or int:\")\n",
    "        portfolio_size = input(\"What's your portfolio size:\")\n",
    "\n",
    "portfolio_size()"
   ]
  },
  {
   "cell_type": "code",
   "execution_count": null,
   "metadata": {},
   "outputs": [],
   "source": [
    "position_size = float(portfolio_size) / len(final_dataframe.index)\n",
    "for i in range(0, len(final_dataframe['Symbol'])):\n",
    "    final_dataframe.loc[i, 'Shares to buy'] = math.floor(position_size / final_dataframe['Price'][i])"
   ]
  },
  {
   "cell_type": "code",
   "execution_count": null,
   "metadata": {},
   "outputs": [],
   "source": [
    "hqm_columns = [\n",
    "                'Symbol', \n",
    "                'Price', \n",
    "                'Shares to buy', \n",
    "                '1Y Price Return', \n",
    "                '1Y Return Percentile',\n",
    "                '6M Price Return',\n",
    "                '6M Return Percentile',\n",
    "                '3 Months Price Return',\n",
    "                '3M Return Percentile',\n",
    "                '1 Month Price Return',\n",
    "                '1M Return Percentile',\n",
    "                'HQM Score'\n",
    "                ]\n",
    "\n",
    "hqm_dataframe = pd.DataFrame(columns = hqm_columns)\n",
    "\n",
    "for symbol_string in symbol_strings:\n",
    "    batch_api_call_url = f'https://sandbox.iexapis.com/stable/stock/market/batch/?types=stats,quote&symbols={symbol_string}&token={IEX_CLOUD_API_TOKEN}'\n",
    "    data = requests.get(batch_api_call_url).json()\n",
    "    for symbol in symbol_string.split(','):\n",
    "        hqm_dataframe = hqm_dataframe.append(\n",
    "                                        pd.Series([symbol, \n",
    "                                                   data[symbol]['quote']['latestPrice'],\n",
    "                                                   'N/A',\n",
    "                                                   data[symbol]['stats']['year1ChangePercent'],\n",
    "                                                   'N/A',\n",
    "                                                   data[symbol]['stats']['month6ChangePercent'],\n",
    "                                                   'N/A',\n",
    "                                                   data[symbol]['stats']['month3ChangePercent'],\n",
    "                                                   'N/A',\n",
    "                                                   data[symbol]['stats']['month1ChangePercent'],\n",
    "                                                   'N/A',\n",
    "                                                   'N/A'\n",
    "                                                   ], \n",
    "                                                  index = hqm_columns), \n",
    "                                        ignore_index = True)\n",
    "        \n",
    "hqm_dataframe.columns"
   ]
  },
  {
   "cell_type": "code",
   "execution_count": null,
   "metadata": {},
   "outputs": [],
   "source": [
    "time_periods = [\n",
    "                '1 Year',\n",
    "                '6 Months',\n",
    "                '3 Months',\n",
    "                '1 Month'\n",
    "                ]\n",
    "\n",
    "for row in hqm_dataframe.index:\n",
    "    for time_period in time_periods:\n",
    "        hqm_dataframe.loc[row, f'{time_period} Return Percentile'] = stats.percentileofscore(hqm_dataframe[f'{time_period} Price Return'], hqm_dataframe.loc[row, f'{time_period} Price Return'])/100\n",
    "\n",
    "for time_period in time_periods:\n",
    "    print(hqm_dataframe[f'{time_period} Return Percentile'])    \n",
    "hqm_dataframe"
   ]
  },
  {
   "cell_type": "code",
   "execution_count": null,
   "metadata": {},
   "outputs": [],
   "source": [
    "from statistics import mean\n",
    "\n",
    "for row in hqm_dataframe.index:\n",
    "    momentum_percentiles = []\n",
    "    for time_period in time_periods:\n",
    "        momentum_percentiles.append(hqm_dataframe.loc[row, f'{time_period} Return Percentile'])\n",
    "    hqm_dataframe.loc[row, 'HQM Score'] = mean(momentum_percentiles)"
   ]
  },
  {
   "cell_type": "code",
   "execution_count": null,
   "metadata": {},
   "outputs": [],
   "source": [
    "hqm_dataframe.sort_values(by = 'HQM Score', ascending = False)\n",
    "hqm_dataframe = hqm_dataframe[:51]"
   ]
  },
  {
   "cell_type": "code",
   "execution_count": null,
   "metadata": {},
   "outputs": [],
   "source": [
    "portfolio_size()"
   ]
  },
  {
   "cell_type": "code",
   "execution_count": null,
   "metadata": {},
   "outputs": [],
   "source": [
    "position_size = float(portfolio_size) / len(hqm_dataframe.index)\n",
    "for i in range(0, len(hqm_dataframe['Symbol'])-1):\n",
    "    hqm_dataframe.loc[i, 'Shares to buy'] = math.floor(position_size / hqm_dataframe['Price'][i])\n",
    "hqm_dataframe"
   ]
  },
  {
   "cell_type": "code",
   "execution_count": null,
   "metadata": {},
   "outputs": [],
   "source": [
    "writer = pd.ExcelWriter('momentum_trading.xlsx', engine='xlsxwriter')\n",
    "hqm_dataframe.to_excel(writer, sheet_name='Momentum Trading', index = False)"
   ]
  },
  {
   "cell_type": "code",
   "execution_count": null,
   "metadata": {},
   "outputs": [],
   "source": [
    "background_color = '#9f9fc2'\n",
    "font_color = '#786c6c'\n",
    "\n",
    "string_template = writer.book.add_format(\n",
    "        {\n",
    "            'font_color': font_color,\n",
    "            'bg_color': background_color,\n",
    "            'border': 1\n",
    "        }\n",
    "    )\n",
    "\n",
    "dollar_template = writer.book.add_format(\n",
    "        {\n",
    "            'num_format':'$0.00',\n",
    "            'font_color': font_color,\n",
    "            'bg_color': background_color,\n",
    "            'border': 1\n",
    "        }\n",
    "    )\n",
    "\n",
    "integer_template = writer.book.add_format(\n",
    "        {\n",
    "            'num_format':'0',\n",
    "            'font_color': font_color,\n",
    "            'bg_color': background_color,\n",
    "            'border': 1\n",
    "        }\n",
    "    )\n",
    "\n",
    "percent_template = writer.book.add_format(\n",
    "        {\n",
    "            'num_format':'0.0%',\n",
    "            'font_color': font_color,\n",
    "            'bg_color': background_color,\n",
    "            'border': 1\n",
    "        }\n",
    "    )"
   ]
  },
  {
   "cell_type": "code",
   "execution_count": null,
   "metadata": {},
   "outputs": [],
   "source": [
    "column_formats = { \n",
    "                    'A': ['Symbol', string_template],\n",
    "                    'B': ['Price', dollar_template],\n",
    "                    'C': ['Shares to buy', integer_template],\n",
    "                    'D': ['1Y Price Return', percent_template],\n",
    "                    'E': ['1Y Return Percentile', percent_template],\n",
    "                    'F': ['6M Price Return', percent_template],\n",
    "                    'G': ['6M Return Percentile', percent_template],\n",
    "                    'H': ['3 Months Price Return', percent_template],\n",
    "                    'I': ['3M Return Percentile', percent_template],\n",
    "                    'J': ['1 Month Price Return', percent_template],\n",
    "                    'K': ['1M Return Percentile', percent_template],\n",
    "                    'L': ['HQM Score', integer_template]\n",
    "                    }\n",
    "\n",
    "for column in column_formats.keys():\n",
    "    writer.sheets['Momentum Trading'].set_column(f'{column}:{column}', 20, column_formats[column][1])\n",
    "    writer.sheets['Momentum Trading'].write(f'{column}1', column_formats[column][0], string_template)"
   ]
  },
  {
   "cell_type": "code",
   "execution_count": null,
   "metadata": {},
   "outputs": [],
   "source": [
    "writer.save()"
   ]
  }
 ],
 "metadata": {
  "language_info": {
   "name": "python"
  },
  "orig_nbformat": 4
 },
 "nbformat": 4,
 "nbformat_minor": 2
}
